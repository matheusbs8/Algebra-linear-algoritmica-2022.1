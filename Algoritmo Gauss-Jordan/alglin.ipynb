{
 "cells": [
  {
   "cell_type": "code",
   "execution_count": 29,
   "metadata": {},
   "outputs": [],
   "source": [
    "using Plots\n",
    "using LinearAlgebra\n",
    "using Random\n",
    "using Polynomials\n",
    "using DelimitedFiles;\n",
    "using Base.Threads"
   ]
  },
  {
   "cell_type": "code",
   "execution_count": 30,
   "metadata": {},
   "outputs": [
    {
     "data": {
      "text/plain": [
       "estica_encolhe (generic function with 1 method)"
      ]
     },
     "metadata": {},
     "output_type": "display_data"
    }
   ],
   "source": [
    "function estica_encolhe(B,C,indice,fator)\n",
    "        B[:, indice]=(1/fator)*B[:, indice]\n",
    "        C[indice, :]=fator*C[indice, :]\n",
    "    return B,C  \n",
    "end"
   ]
  },
  {
   "cell_type": "code",
   "execution_count": 31,
   "metadata": {},
   "outputs": [
    {
     "data": {
      "text/plain": [
       "troca (generic function with 1 method)"
      ]
     },
     "metadata": {},
     "output_type": "display_data"
    }
   ],
   "source": [
    "function troca(B,C,i,j)\n",
    "    n,=size(B)\n",
    "    aux = zeros(n)\n",
    "    aux[:]=B[:, i]\n",
    "    B[:, i]=B[:, j]\n",
    "    B[:, j]=aux[:]\n",
    "\n",
    "    m,y=size(C)\n",
    "    aux2 = zeros(y)    \n",
    "    aux2[:]=C[i, :]\n",
    "    C[i, :]=C[j, :]\n",
    "    C[j, :]=aux2[:]\n",
    "     \n",
    "    return B,C\n",
    "end"
   ]
  },
  {
   "cell_type": "code",
   "execution_count": 32,
   "metadata": {},
   "outputs": [
    {
     "data": {
      "text/plain": [
       "soma_subtracao (generic function with 1 method)"
      ]
     },
     "metadata": {},
     "output_type": "display_data"
    }
   ],
   "source": [
    "function soma_subtracao(B,C,i,j,fator)\n",
    "    B[:, j]+=fator*(B[:, i])\n",
    "    C[i, :]-=fator*C[j, :]\n",
    "    return B,C\n",
    "end"
   ]
  },
  {
   "cell_type": "code",
   "execution_count": 33,
   "metadata": {},
   "outputs": [
    {
     "data": {
      "text/plain": [
       "zerar_coluna_Thread (generic function with 1 method)"
      ]
     },
     "metadata": {},
     "output_type": "display_data"
    }
   ],
   "source": [
    "function zerar_coluna_Thread(B,C, i, j, size_linha)\n",
    "    \n",
    "    \n",
    "    Threads.@threads for k in 1:size_linha \n",
    "        if (k!=i)\n",
    "            B,C=soma_subtracao(B,C, k, i, C[k,j])\n",
    "        end\n",
    "    end\n",
    "\n",
    "\n",
    "    return B, C\n",
    "end    "
   ]
  },
  {
   "cell_type": "code",
   "execution_count": 34,
   "metadata": {},
   "outputs": [
    {
     "data": {
      "text/plain": [
       "zerar_coluna (generic function with 1 method)"
      ]
     },
     "metadata": {},
     "output_type": "display_data"
    }
   ],
   "source": [
    "function zerar_coluna(B,C, i, j, size_linha)\n",
    "    \n",
    "    \n",
    " for k in 1:size_linha \n",
    "        if (k!=i)\n",
    "            B,C=soma_subtracao(B,C, k, i, C[k,j])\n",
    "        end\n",
    "    end\n",
    "\n",
    "\n",
    "    return B, C\n",
    "end    "
   ]
  },
  {
   "cell_type": "code",
   "execution_count": 35,
   "metadata": {},
   "outputs": [
    {
     "data": {
      "text/plain": [
       "encontra_pivo (generic function with 1 method)"
      ]
     },
     "metadata": {},
     "output_type": "display_data"
    }
   ],
   "source": [
    "function encontra_pivo(A, i,j, size_linha)\n",
    "    i_troca=0\n",
    "    for k in i:size_linha\n",
    "        if(A[k,j]!=0.0)\n",
    "            i_troca=k\n",
    "            break\n",
    "        end   \n",
    "    end\n",
    "    return i_troca  \n",
    "end"
   ]
  },
  {
   "cell_type": "code",
   "execution_count": 36,
   "metadata": {},
   "outputs": [
    {
     "data": {
      "text/plain": [
       "Gauss_Jordan (generic function with 1 method)"
      ]
     },
     "metadata": {},
     "output_type": "display_data"
    }
   ],
   "source": [
    "function Gauss_Jordan(C)\n",
    "    A=copy(C)\n",
    "    i_atual=1\n",
    "    j_atual=1\n",
    "    \n",
    "    size_linha, size_coluna=size(A)\n",
    "    minimo=min(size_linha, size_coluna)\n",
    "    identidade=zeros(minimo, minimo)\n",
    "    \n",
    "    for i in 1:minimo \n",
    "        identidade[i,i]=1.0\n",
    "    end\n",
    "   \n",
    "    while (i_atual<=size_linha && j_atual<=size_coluna)\n",
    "        i_troca = encontra_pivo(A,i_atual, j_atual, size_linha)\n",
    "        if(i_troca == 0)\n",
    "            if(i_atual==size_linha)\n",
    "                j_atual=size_coluna\n",
    "                continue\n",
    "            end\n",
    "            j_atual+=1\n",
    "            continue\n",
    "        end\n",
    "        if(i_atual!=i_troca)\n",
    "            identidade, A=troca(identidade, A, i_atual, i_troca)\n",
    "        end\n",
    "        identidade, A = estica_encolhe(identidade, A, i_atual, 1/A[i_atual, j_atual])\n",
    "        identidade, A = zerar_coluna(identidade, A, i_atual, j_atual, size_linha)\n",
    "        i_atual+=1\n",
    "        j_atual+=1  \n",
    "    end\n",
    "\n",
    "\n",
    "    return identidade, A\n",
    "end    "
   ]
  },
  {
   "cell_type": "code",
   "execution_count": 37,
   "metadata": {},
   "outputs": [
    {
     "data": {
      "text/plain": [
       "Gauss_Jordan_T (generic function with 1 method)"
      ]
     },
     "metadata": {},
     "output_type": "display_data"
    }
   ],
   "source": [
    "function Gauss_Jordan_T(C)\n",
    "    A=copy(C)\n",
    "    i_atual=1\n",
    "    j_atual=1\n",
    "    \n",
    "    size_linha, size_coluna=size(A)\n",
    "    minimo=min(size_linha, size_coluna)\n",
    "    identidade=zeros(minimo, minimo)\n",
    "    \n",
    "    for i in 1:minimo \n",
    "        identidade[i,i]=1.0\n",
    "    end\n",
    "   \n",
    "    while (i_atual<=size_linha && j_atual<=size_coluna)\n",
    "        i_troca = encontra_pivo(A,i_atual, j_atual, size_linha)\n",
    "        if(i_troca == 0)\n",
    "            if(i_atual==size_linha)\n",
    "                j_atual=size_coluna\n",
    "                continue\n",
    "            end\n",
    "            j_atual+=1\n",
    "            continue\n",
    "        end\n",
    "        if(i_atual!=i_troca)\n",
    "            identidade, A=troca(identidade, A, i_atual, i_troca)\n",
    "        end\n",
    "        identidade, A = estica_encolhe(identidade, A, i_atual, 1/A[i_atual, j_atual])\n",
    "        identidade, A = zerar_coluna_Thread(identidade, A, i_atual, j_atual, size_linha)\n",
    "        i_atual+=1\n",
    "        j_atual+=1  \n",
    "    end\n",
    "\n",
    "\n",
    "    return identidade, A\n",
    "end    "
   ]
  },
  {
   "cell_type": "code",
   "execution_count": 39,
   "metadata": {},
   "outputs": [],
   "source": [
    "A = [2.0 4.0 1.0 8.0 11.0 101.0; \n",
    "     3.0 4.0 2.0 8.0 12.0 102.0; \n",
    "     2.0 4.0 3.0 8.0 13.0 103.0; \n",
    "     2.0 4.0 4.0 8.0 14.0 101.0]\n",
    "\n",
    "A = [1.0 1.0 1.0 1.0 1.0 1.0; 1.0 2.0 3.0 4.0 5.0 6.0; 2.0 3.0 4.0 5.0 6.0 7.0; 0.0 -1.0 -2.0 -3.0 -4.0 -5.0]\n",
    "\n",
    "A=[1.0 1.0 1.0 2.0 11.0 101.0 1.0 1.0 1.0 2.0 11.0 101.0; \n",
    "   1.0 3.0 2.0 4.0 12.0 102.0 1.0 1.0 1.0 2.0 11.0 101.0; \n",
    "   1.0 5.0 3.0 6.0 13.0 103.0 1.0 1.0 1.0 2.0 11.0 101.0; \n",
    "   1.0 7.0 4.0 8.0 14.0 101.0 1.0 1.0 1.0 2.0 11.0 101.0;\n",
    "   1.0 1.0 1.0 2.0 11.0 101.0 1.0 1.0 1.0 2.0 11.0 101.0;\n",
    "   1.0 3.0 2.0 4.0 12.0 102.0 1.0 1.0 1.0 2.0 11.0 101.0; \n",
    "   1.0 5.0 3.0 6.0 13.0 103.0 1.0 1.0 1.0 2.0 11.0 101.0; \n",
    "   1.0 7.0 4.0 8.0 14.0 101.0 1.0 1.0 1.0 2.0 11.0 101.0 ]\n",
    "\n",
    "\n",
    "Matriz =[1.0 3.0\n",
    "         4.0 2.0]\n",
    "\n",
    "A = round.(rand(10000,10000)) \n",
    "\n",
    "\n",
    "@time begin         \n",
    "B,C = Gauss_Jordan(A)\n",
    "end\n",
    "\n",
    "@time begin         \n",
    "   F,G = Gauss_Jordan_T(A)\n",
    "   end\n",
    "\n",
    "println(\"\\n\",isapprox(B*C, A))"
   ]
  }
 ],
 "metadata": {
  "kernelspec": {
   "display_name": "Julia 1.6.4",
   "language": "julia",
   "name": "julia-1.6"
  },
  "language_info": {
   "file_extension": ".jl",
   "mimetype": "application/julia",
   "name": "julia",
   "version": "1.6.4"
  }
 },
 "nbformat": 4,
 "nbformat_minor": 2
}
